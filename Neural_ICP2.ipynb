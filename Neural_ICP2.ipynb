{
  "nbformat": 4,
  "nbformat_minor": 0,
  "metadata": {
    "colab": {
      "provenance": []
    },
    "kernelspec": {
      "name": "python3",
      "display_name": "Python 3"
    },
    "language_info": {
      "name": "python"
    }
  },
  "cells": [
    {
      "cell_type": "code",
      "execution_count": 2,
      "metadata": {
        "colab": {
          "base_uri": "https://localhost:8080/"
        },
        "id": "dEPLj_5pMu5G",
        "outputId": "0a1865ae-27af-4139-f0e9-223df43b9cb1"
      },
      "outputs": [
        {
          "output_type": "stream",
          "name": "stdout",
          "text": [
            "Enter first name: Vinay\n",
            "Enter last name: Naidu\n",
            "Full name: Vinay Naidu\n",
            "Alternative string: VnyNiu\n"
          ]
        }
      ],
      "source": [
        "def fullname(first_name, last_name):\n",
        "    return f\"{first_name} {last_name}\"\n",
        "\n",
        "def string_alternative(full_name):\n",
        "    return full_name[::2]\n",
        "\n",
        "first_name = input(\"Enter first name: \")\n",
        "last_name = input(\"Enter last name: \")\n",
        "\n",
        "full_name = fullname(first_name, last_name)\n",
        "\n",
        "print(\"Full name:\", full_name)\n",
        "\n",
        "\n",
        "alternative_string = string_alternative(full_name)\n",
        "print(\"Alternative string:\", alternative_string)\n"
      ]
    },
    {
      "cell_type": "code",
      "source": [
        "from google.colab import drive\n",
        "drive.mount('/content/drive')\n",
        "\n",
        "input_path = '/content/drive/MyDrive/input.txt'\n",
        "output_path = '/content/drive/MyDrive/output.txt'\n",
        "\n",
        "def count_words(input_path, output_path):\n",
        "    try:\n",
        "        with open(input_path, 'r') as file:\n",
        "            text = file.read()\n",
        "            words = text.split()\n",
        "            word_count = len(words)\n",
        "\n",
        "            word_counts = {}\n",
        "            for word in words:\n",
        "                if word in word_counts:\n",
        "                    word_counts[word] += 1\n",
        "                else:\n",
        "                    word_counts[word] = 1\n",
        "\n",
        "            with open(output_path, 'w') as out_file:\n",
        "                out_file.write(\"Word counts:\\n\")\n",
        "                for word, count in word_counts.items():\n",
        "                    out_file.write(f\"{word}: {count}\\n\")\n",
        "\n",
        "            print(f\"Output written to {output_path}\")\n",
        "\n",
        "    except FileNotFoundError:\n",
        "        print(f\"Error: The file '{input_path}' was not found.\")\n",
        "\n",
        "count_words(input_path, output_path)\n",
        "\n",
        "\n"
      ],
      "metadata": {
        "colab": {
          "base_uri": "https://localhost:8080/"
        },
        "id": "ZdTO95lLNUPB",
        "outputId": "e102aadc-ffbc-40de-e5a1-f2dbf47d3e26"
      },
      "execution_count": 3,
      "outputs": [
        {
          "output_type": "stream",
          "name": "stdout",
          "text": [
            "Drive already mounted at /content/drive; to attempt to forcibly remount, call drive.mount(\"/content/drive\", force_remount=True).\n",
            "Output written to /content/drive/MyDrive/output.txt\n"
          ]
        }
      ]
    },
    {
      "cell_type": "markdown",
      "source": [
        "Nested Interactive Loop"
      ],
      "metadata": {
        "id": "d2JNRYRiftNH"
      }
    },
    {
      "cell_type": "code",
      "source": [
        "def convert_heights_nested():\n",
        "    heights_inches = []\n",
        "    heights_cm = []\n",
        "\n",
        "    while True:\n",
        "        height_str = input(\"Enter height in inches: \")\n",
        "        if height_str.lower() == 'exit':\n",
        "            break\n",
        "        try:\n",
        "            height_inches = float(height_str)\n",
        "            if height_inches < 0:\n",
        "                print(\"Height should be a positive number.\")\n",
        "            else:\n",
        "                heights_inches.append(height_inches)\n",
        "        except ValueError:\n",
        "            print(\"Invalid input. Please enter a valid number or 'done'.\")\n",
        "\n",
        "\n",
        "    for height in heights_inches:\n",
        "        height_cm = height * 2.54\n",
        "        heights_cm.append(height_cm)\n",
        "\n",
        "\n",
        "    print(\"\\nHeights in Inches:\", heights_inches)\n",
        "    print(\"Heights in Centimeters:\", heights_cm)\n",
        "\n",
        "\n",
        "convert_heights_nested()\n"
      ],
      "metadata": {
        "colab": {
          "base_uri": "https://localhost:8080/"
        },
        "id": "qyXO_kr_fyDO",
        "outputId": "c7d1a564-480c-4421-ec93-7b6e0a81d835"
      },
      "execution_count": 4,
      "outputs": [
        {
          "output_type": "stream",
          "name": "stdout",
          "text": [
            "Enter height in inches: 5\n",
            "Enter height in inches: 6\n",
            "Enter height in inches: 7\n",
            "Enter height in inches: exit\n",
            "\n",
            "Heights in Inches: [5.0, 6.0, 7.0]\n",
            "Heights in Centimeters: [12.7, 15.24, 17.78]\n"
          ]
        }
      ]
    },
    {
      "cell_type": "markdown",
      "source": [
        "List Comprehension:"
      ],
      "metadata": {
        "id": "sVCCoJiijqy6"
      }
    },
    {
      "cell_type": "code",
      "source": [
        "def convert_heights_comprehension():\n",
        "    heights_inches = []\n",
        "\n",
        "\n",
        "    while True:\n",
        "        height_str = input(\"Enter height in inches: \")\n",
        "        if height_str.lower() == 'exit':\n",
        "            break\n",
        "        try:\n",
        "            height_inches = float(height_str)\n",
        "            if height_inches < 0:\n",
        "                print(\"Height should be a positive number.\")\n",
        "            else:\n",
        "                heights_inches.append(height_inches)\n",
        "        except ValueError:\n",
        "            print(\"Invalid input. Please enter a valid number or 'done'.\")\n",
        "\n",
        "\n",
        "    heights_cm = [height * 2.54 for height in heights_inches]\n",
        "\n",
        "\n",
        "    print(\"\\nHeights in Inches:\", heights_inches)\n",
        "    print(\"Heights in Centimeters:\", heights_cm)\n",
        "\n",
        "\n",
        "convert_heights_comprehension()\n"
      ],
      "metadata": {
        "colab": {
          "base_uri": "https://localhost:8080/"
        },
        "id": "pJOCEX3zjxJ4",
        "outputId": "abf0fa00-3157-44a6-f534-d95dd0e51ada"
      },
      "execution_count": 5,
      "outputs": [
        {
          "output_type": "stream",
          "name": "stdout",
          "text": [
            "Enter height in inches: 5\n",
            "Enter height in inches: 6\n",
            "Enter height in inches: 7\n",
            "Enter height in inches: exit\n",
            "\n",
            "Heights in Inches: [5.0, 6.0, 7.0]\n",
            "Heights in Centimeters: [12.7, 15.24, 17.78]\n"
          ]
        }
      ]
    }
  ]
}